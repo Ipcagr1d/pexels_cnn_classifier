{
 "cells": [
  {
   "cell_type": "code",
   "execution_count": null,
   "metadata": {},
   "outputs": [],
   "source": [
    "import os \t\t\t\t\t\t\t\t\t\t\t\t\t\t\t\t\t\t\t                                # for manipulating the directories\n",
    "import cv2 \t\t\t\t\t\t\t\t\t\t\t\t\t\t\t\t\t\t\t                                # for image processing \n",
    "import random \t\t\t\t\t\t\t\t\t\t\t\t\t\t\t\t\t\t                              # for shuffling\n",
    "import numpy as np \t\t\t\t\t\t\t\t\t\t\t\t\t\t\t\t\t                            # for array manipulating and scientific computing\n",
    "from matplotlib import pyplot as plt\n",
    "\n",
    "from sklearn.metrics import accuracy_score, confusion_matrix, classification_report, ConfusionMatrixDisplay\n",
    "\n",
    "import tensorflow as tf \t\t\t\t\t\t\t\t\t\t\t\t\t\t\t                          # for more details see: https://www.tensorflow.org/tutorials\n",
    "from tensorflow import keras \t\t\t\t\t\t\t\t\t\t\t\t\t\t                        # for more details see: https://www.tensorflow.org/guide/keras/overview\n",
    "\n",
    "from tensorflow.keras.models import Model \t\t\t\t\t\t\t\t                      # for more details see about Model class API: https://keras.io/models/model/\n",
    "from tensorflow.keras.layers import Input, Dense, Conv2D, MaxPooling2D, Dropout, GlobalAveragePooling2D, Flatten, BatchNormalization\n",
    "from tensorflow.keras.utils import to_categorical\t\t\t\t       \t\t\t\t          # for categorical labels\n",
    "from tensorflow.keras import optimizers"
   ]
  },
  {
   "cell_type": "code",
   "execution_count": null,
   "metadata": {},
   "outputs": [],
   "source": [
    "# general parameters\n",
    "NAME = 'fruits-classifier'                                                      # name for the callback output\n",
    "base_dir = \"datasets/fruits-360/\"\t                                              # directory path of the fruit dataset, download from: https://github.com/Horea94/Fruit-Images-Dataset (Horea Muresan, Mihai Oltean, Fruit recognition from images using deep learning, Acta Univ. Sapientiae, Informatica Vol. 10, Issue 1, pp. 26-42, 2018.)\n",
    "CATEGORIES = [\"Apple Golden 1\",\"Kiwi\",\"Lemon\",\"Lychee\",\"Grape Pink\"] \t# we work with three classes of Apple and Pear\n",
    "class_names = CATEGORIES\n",
    "num_classes = 5\n",
    "img_size = 100"
   ]
  },
  {
   "cell_type": "code",
   "execution_count": null,
   "metadata": {},
   "outputs": [],
   "source": [
    "!git clone https://github.com/Horea94/Fruit-Images-Dataset.git\n",
    "\n",
    "!ls\n",
    "\n",
    "base_dir = 'Fruit-Images-Dataset/'\n",
    "\n",
    "!ls Fruit-Images-Dataset/"
   ]
  },
  {
   "cell_type": "code",
   "execution_count": null,
   "metadata": {},
   "outputs": [],
   "source": [
    "!ls Fruit-Images-Dataset/Training/"
   ]
  },
  {
   "cell_type": "code",
   "execution_count": null,
   "metadata": {},
   "outputs": [],
   "source": [
    "import os\n",
    "import cv2\n",
    "import numpy as np\n",
    "from sklearn.model_selection import train_test_split\n",
    "from tensorflow.keras.utils import to_categorical\n",
    "from tensorflow.keras.models import Sequential\n",
    "from tensorflow.keras.layers import Conv2D, MaxPooling2D, Flatten, Dense, Dropout\n",
    "\n",
    "# set up search criteria\n",
    "search_terms = ['Apple Golden 1', 'Kiwi', 'Lemon', 'Lychee', 'Grape Pink'] # keywords for search in fruits360 dataset\n",
    "\n",
    "# set up parameters\n",
    "img_size = (128, 128) # size to resize images\n",
    "num_classes = len(search_terms) # number of fruit classes\n",
    "\n",
    "# load images and labels\n",
    "images = []\n",
    "labels = []\n",
    "for i, term in enumerate(search_terms):\n",
    "    folder_name = f'Fruit-Images-Dataset/Training/{term}'\n",
    "    for filename in os.listdir(folder_name):\n",
    "        image_path = os.path.join(folder_name, filename)\n",
    "        try:\n",
    "            # read image and resize\n",
    "            img = cv2.imread(image_path)\n",
    "            img = cv2.resize(img, img_size)\n",
    "            images.append(img)\n",
    "            labels.append(i)\n",
    "        except Exception as e:\n",
    "            print(f'Error loading {image_path}: {e}')\n",
    "\n",
    "# convert to numpy arrays\n",
    "images = np.array(images)\n",
    "labels = np.array(labels)\n",
    "\n",
    "# split into training and testing sets\n",
    "X_train, X_test, y_train, y_test = train_test_split(images, labels, test_size=0.2, random_state=42)\n",
    "\n",
    "# convert labels to categorical\n",
    "y_train = to_categorical(y_train, num_classes)\n",
    "y_test = to_categorical(y_test, num_classes)\n",
    "\n",
    "# create model\n",
    "model = Sequential()\n",
    "model.add(Conv2D(32, (3, 3), activation='relu', input_shape=(img_size[0], img_size[1], 3)))\n",
    "model.add(MaxPooling2D((2, 2)))\n",
    "model.add(Conv2D(64, (3, 3), activation='relu'))\n",
    "model.add(MaxPooling2D((2, 2)))\n",
    "model.add(Conv2D(128, (3, 3), activation='relu'))\n",
    "model.add(MaxPooling2D((2, 2)))\n",
    "model.add(Conv2D(256, (3, 3), activation='relu'))\n",
    "model.add(MaxPooling2D((2, 2)))\n",
    "model.add(Flatten())\n",
    "model.add(Dense(512, activation='relu'))\n",
    "model.add(Dropout(0.5))\n",
    "model.add(Dense(num_classes, activation='softmax'))\n",
    "\n",
    "# compile model\n",
    "model.compile(optimizer='adam', loss='categorical_crossentropy', metrics=['accuracy'])\n",
    "\n",
    "# train model\n",
    "model.fit(X_train, y_train, epochs=10, batch_size=32, validation_data=(X_test, y_test))\n"
   ]
  }
 ],
 "metadata": {
  "language_info": {
   "name": "python"
  },
  "orig_nbformat": 4
 },
 "nbformat": 4,
 "nbformat_minor": 2
}
